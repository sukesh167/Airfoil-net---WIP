{
  "nbformat": 4,
  "nbformat_minor": 0,
  "metadata": {
    "accelerator": "GPU",
    "colab": {
      "name": "airfoil_v2",
      "provenance": [],
      "collapsed_sections": []
    },
    "kernelspec": {
      "display_name": "Python 3",
      "name": "python3"
    }
  },
  "cells": [
    {
      "cell_type": "code",
      "metadata": {
        "id": "jVymSbaaDAuR"
      },
      "source": [
        "import torch\n",
        "import pandas as pd\n",
        "import cv2\n",
        "import numpy as np\n",
        "from google.colab.patches import cv2_imshow\n",
        "import os\n",
        "from PIL import Image\n",
        "from torch.utils.data import Dataset, DataLoader\n",
        "import random\n",
        "import time"
      ],
      "execution_count": null,
      "outputs": []
    },
    {
      "cell_type": "code",
      "metadata": {
        "id": "M_D-KvqjWFHX"
      },
      "source": [
        "class airfoildata(Dataset):\n",
        "  def __init__(self,dir,split='train'):\n",
        "    super(airfoildata, self).__init__()\n",
        "    self.dir=dir\n",
        "    self.get_pairs()\n",
        "    self.get_samples()\n",
        "    self.split()\n",
        "    if split=='train':\n",
        "      self.data=self.train\n",
        "      self.pairs=None\n",
        "      self.sample=None\n",
        "      self.train=None\n",
        "      self.test=None\n",
        "    elif split=='test':\n",
        "      self.data=self.test\n",
        "      self.pairs=None\n",
        "      self.sample=None\n",
        "      self.train=None\n",
        "      self.test=None\n",
        "    else:\n",
        "      self.pairs=None\n",
        "      self.sample=None\n",
        "      self.train=None\n",
        "      self.test=None\n",
        "      print('error')\n",
        "\n",
        "  def get_img(self,file):\n",
        "    im=np.asarray(Image.open(file))\n",
        "    return(im.reshape((1,)+im.shape))\n",
        "\n",
        "  def get_df(self,file):\n",
        "    f=open(file)\n",
        "    _=np.asarray(f.read().split('\\n')[10:])\n",
        "    _=list(np.core.defchararray.split(_,\",\"))\n",
        "    return(pd.DataFrame(_[1:-1],columns=_[0]))\n",
        "  \n",
        "  def get_pairs(self):\n",
        "    imgs=[]\n",
        "    csf=[]\n",
        "    for i in os.listdir(dir):\n",
        "      if i[-3:]==\"gif\":\n",
        "        imgs.append(i)\n",
        "      elif i[-3:]==\"csv\":\n",
        "        csf.append(i)\n",
        "      else:\n",
        "        pass\n",
        "    self.pairs=[[i,'xf-'+i[5:-4]+'-il-1000000.csv'] for i in imgs if 'xf-'+i[5:-4]+'-il-1000000.csv' in csf]\n",
        "\n",
        "  def get_samples(self):\n",
        "    data=[[self.get_img(self.dir+x), self.get_df(self.dir+y)] for x,y in self.pairs]\n",
        "    self.samples=[[x,float(i),float(j)] for x,y in data for i,j in y[['Alpha','Cl']].values ]\n",
        "\n",
        "  def split(self):\n",
        "    random.shuffle(self.samples)\n",
        "    self.train=self.samples[:int(0.9*len(self.samples))]\n",
        "    self.test=self.samples[int(0.9*len(self.samples)):]\n",
        "\n",
        "  def __len__(self):\n",
        "    return(len(self.data))\n",
        "  \n",
        "  def __getitem__(self,idx):\n",
        "    return(self.data[idx])"
      ],
      "execution_count": null,
      "outputs": []
    },
    {
      "cell_type": "code",
      "metadata": {
        "id": "9MmthN17Xjfr"
      },
      "source": [
        "class net(torch.nn.Module):\n",
        "  def __init__(self):\n",
        "     super(net, self).__init__()\n",
        "     self.cnn=torch.nn.Sequential(\n",
        "              torch.nn.Conv2d(1, 4, 7, 2),\n",
        "              torch.nn.BatchNorm2d(4),\n",
        "              torch.nn.MaxPool2d(2,2),\n",
        "              torch.nn.Conv2d(4, 16, 5, 2),\n",
        "              torch.nn.BatchNorm2d(16),\n",
        "              torch.nn.MaxPool2d(2,2),\n",
        "              torch.nn.Conv2d(16, 64, 3, 2),\n",
        "              torch.nn.BatchNorm2d(64),\n",
        "              torch.nn.MaxPool2d(2,2),\n",
        "              torch.nn.ReLU(inplace=True)\n",
        "     )\n",
        "\n",
        "     self.dense1=torch.nn.Sequential(\n",
        "                 torch.nn.Linear(14976, 5000),\n",
        "                 torch.nn.GELU(),\n",
        "                 torch.nn.Linear(5000, 500),\n",
        "                 torch.nn.Dropout(p=0.75, inplace=True),\n",
        "                 torch.nn.Tanh()\n",
        "                 \n",
        "     )\n",
        "\n",
        "     self.dense2=torch.nn.Sequential(   \n",
        "                 torch.nn.Linear(501, 50),\n",
        "                 torch.nn.Tanh(),               \n",
        "                 torch.nn.Linear(50, 10),\n",
        "                 torch.nn.Tanh(),\n",
        "                 torch.nn.Linear(10, 5),\n",
        "                 torch.nn.Tanh(),\n",
        "                #  torch.nn.Dropout(p=0.75, inplace=True),\n",
        "                 torch.nn.Linear(5, 1),\n",
        "                 torch.nn.Tanh()\n",
        "     )\n",
        "     \n",
        "  def forward(self,img,alpha):\n",
        "    x1=self.cnn(img)\n",
        "    x1=x1.flatten()\n",
        "    x1=self.dense1(x1)\n",
        "    x=torch.cat((x1,alpha))\n",
        "    y=self.dense2(x)\n",
        "    return(y*10)"
      ],
      "execution_count": null,
      "outputs": []
    },
    {
      "cell_type": "code",
      "metadata": {
        "colab": {
          "base_uri": "https://localhost:8080/"
        },
        "id": "1v8Lasutxdi3",
        "outputId": "4377ff18-996e-4954-d00e-841b41fc95b2"
      },
      "source": [
        "!nvcc --version"
      ],
      "execution_count": null,
      "outputs": [
        {
          "output_type": "stream",
          "text": [
            "nvcc: NVIDIA (R) Cuda compiler driver\n",
            "Copyright (c) 2005-2019 NVIDIA Corporation\n",
            "Built on Sun_Jul_28_19:07:16_PDT_2019\n",
            "Cuda compilation tools, release 10.1, V10.1.243\n"
          ],
          "name": "stdout"
        }
      ]
    },
    {
      "cell_type": "code",
      "metadata": {
        "id": "n0WXT478d6KU"
      },
      "source": [
        "dir=\"/content/drive/MyDrive/Prediction Check 2/\"\n",
        "epoch=5\n",
        "def build_model():\n",
        "  model=net()\n",
        "  model=model.cuda()\n",
        "  return(model)\n",
        "\n",
        "def build_param(model):\n",
        "  optimizer=torch.optim.Adam(model.parameters(), lr=0.0025)\n",
        "  loss=torch.nn.MSELoss()\n",
        "  loss=loss.cuda()\n",
        "  return(loss,optimizer)\n",
        "\n",
        "def get_data(dir,split):\n",
        "  dataset=airfoildata(dir,split)\n",
        "  data=DataLoader(dataset, batch_size=1)\n",
        "  return(data)  \n",
        "\n",
        "def train(model, dir, epoch):\n",
        "  loss,optim=build_param(model)\n",
        "  train_data=get_data(dir,'train')\n",
        "  total_losses=[]\n",
        "  for i in range(epoch):\n",
        "    st=time.time()\n",
        "    model.train()\n",
        "    losses=[]\n",
        "    for num,(img, alpha, y) in enumerate(train_data):\n",
        "      model.zero_grad()\n",
        "      pred=model(torch.tensor(img,dtype=torch.float).cuda(), torch.tensor(alpha,dtype=torch.float).cuda())\n",
        "      loss_train=loss(pred,torch.tensor(y,dtype=torch.float).cuda())\n",
        "      loss_train.backward()\n",
        "      optim.step()\n",
        "      if num%100==0:\n",
        "        losses.append(loss_train.item())\n",
        "    total_losses.append(sum(losses)/num)\n",
        "    print(\"epoch:\",i,\", loss:\",sum(losses)/num,\", time:\",time.time()-st)\n",
        "  return(model,total_losses)"
      ],
      "execution_count": null,
      "outputs": []
    },
    {
      "cell_type": "code",
      "metadata": {
        "colab": {
          "base_uri": "https://localhost:8080/"
        },
        "id": "HFaAKOZgeXIY",
        "outputId": "1cd70c61-e83c-4007-864e-b418933a11bf"
      },
      "source": [
        "model=build_model()\n",
        "model,total_losses=train(model, dir, 50)"
      ],
      "execution_count": null,
      "outputs": [
        {
          "output_type": "stream",
          "text": [
            "/usr/local/lib/python3.6/dist-packages/ipykernel_launcher.py:29: UserWarning: To copy construct from a tensor, it is recommended to use sourceTensor.clone().detach() or sourceTensor.clone().detach().requires_grad_(True), rather than torch.tensor(sourceTensor).\n",
            "/usr/local/lib/python3.6/dist-packages/ipykernel_launcher.py:30: UserWarning: To copy construct from a tensor, it is recommended to use sourceTensor.clone().detach() or sourceTensor.clone().detach().requires_grad_(True), rather than torch.tensor(sourceTensor).\n"
          ],
          "name": "stderr"
        },
        {
          "output_type": "stream",
          "text": [
            "epoch: 0 , loss: 0.00307887817405531 , time: 187.2008879184723\n",
            "epoch: 1 , loss: 0.0009777415981597206 , time: 187.50988864898682\n",
            "epoch: 2 , loss: 0.0006898110890767675 , time: 187.79603552818298\n",
            "epoch: 3 , loss: 0.0006316857330637264 , time: 187.7053554058075\n",
            "epoch: 4 , loss: 0.0005838964700600214 , time: 187.5510528087616\n",
            "epoch: 5 , loss: 0.000544882263874242 , time: 187.59405279159546\n",
            "epoch: 6 , loss: 0.0006218459478478193 , time: 187.58858227729797\n",
            "epoch: 7 , loss: 0.0007287977852508187 , time: 187.6034426689148\n",
            "epoch: 8 , loss: 0.000615849194439443 , time: 187.89815211296082\n",
            "epoch: 9 , loss: 0.0007107772861317279 , time: 187.82286524772644\n",
            "epoch: 10 , loss: 0.0006077451798885577 , time: 187.6441135406494\n",
            "epoch: 11 , loss: 0.0007709004119444752 , time: 187.67973256111145\n",
            "epoch: 12 , loss: 0.0006529334977647334 , time: 187.89073610305786\n",
            "epoch: 13 , loss: 0.0007812152660863891 , time: 188.20178651809692\n",
            "epoch: 14 , loss: 0.0006051614583189387 , time: 188.56480145454407\n",
            "epoch: 15 , loss: 0.0006708890079580817 , time: 188.52885174751282\n",
            "epoch: 16 , loss: 0.0006130238996431002 , time: 188.21981811523438\n",
            "epoch: 17 , loss: 0.0007233334326875796 , time: 188.22796273231506\n",
            "epoch: 18 , loss: 0.0005353290650736849 , time: 188.1617910861969\n",
            "epoch: 19 , loss: 0.0005129638749507111 , time: 188.22278833389282\n",
            "epoch: 20 , loss: 0.0006895496326821983 , time: 188.17810988426208\n",
            "epoch: 21 , loss: 0.0006895184226008909 , time: 188.09017419815063\n",
            "epoch: 22 , loss: 0.0005759747559844177 , time: 188.12566208839417\n",
            "epoch: 23 , loss: 0.0004964133143567979 , time: 188.0192859172821\n",
            "epoch: 24 , loss: 0.000564831492601965 , time: 188.19323992729187\n",
            "epoch: 25 , loss: 0.0006769182531899388 , time: 188.0185387134552\n",
            "epoch: 26 , loss: 0.0006348380018814434 , time: 187.6478636264801\n",
            "epoch: 27 , loss: 0.000691352785299535 , time: 187.86034178733826\n",
            "epoch: 28 , loss: 0.0006623500457547704 , time: 187.88856625556946\n",
            "epoch: 29 , loss: 0.000765887276735259 , time: 187.86964774131775\n",
            "epoch: 30 , loss: 0.0007174597933144991 , time: 187.65996408462524\n",
            "epoch: 31 , loss: 0.0007089648514273652 , time: 186.87389755249023\n",
            "epoch: 32 , loss: 0.0006820469446555467 , time: 187.53673005104065\n",
            "epoch: 33 , loss: 0.0005729538742929964 , time: 187.92523956298828\n",
            "epoch: 34 , loss: 0.0007453828664218044 , time: 187.71187233924866\n",
            "epoch: 35 , loss: 0.0006705096774044021 , time: 187.68536949157715\n",
            "epoch: 36 , loss: 0.000569094069130326 , time: 187.5981457233429\n",
            "epoch: 37 , loss: 0.00047393265407692954 , time: 187.7142457962036\n",
            "epoch: 38 , loss: 0.0006380547022067146 , time: 187.59705185890198\n",
            "epoch: 39 , loss: 0.0005459183061844261 , time: 187.67131853103638\n",
            "epoch: 40 , loss: 0.000713263248493849 , time: 187.50260663032532\n",
            "epoch: 41 , loss: 0.0006308823811956845 , time: 187.45900964736938\n",
            "epoch: 42 , loss: 0.0005766227665656017 , time: 187.46682476997375\n",
            "epoch: 43 , loss: 0.0008023840570708957 , time: 187.45109367370605\n",
            "epoch: 44 , loss: 0.000619986244025156 , time: 187.4678041934967\n",
            "epoch: 45 , loss: 0.0006494333379979437 , time: 187.48256039619446\n",
            "epoch: 46 , loss: 0.000605526412692648 , time: 187.3870406150818\n",
            "epoch: 47 , loss: 0.0006054681972692531 , time: 187.5968520641327\n",
            "epoch: 48 , loss: 0.0005672467190281221 , time: 187.58977508544922\n",
            "epoch: 49 , loss: 0.0005931390378185275 , time: 187.6053183078766\n"
          ],
          "name": "stdout"
        }
      ]
    },
    {
      "cell_type": "code",
      "metadata": {
        "id": "2pHf9C8HnBot"
      },
      "source": [
        "dataset=airfoildata(dir,'train')\n",
        "img=dataset.get_img(\"/content/drive/MyDrive/Prediction Check 2/Inkedn12.gif\")\n",
        "df=dataset.get_df(\"/content/drive/MyDrive/Prediction Check 2/xf-n12-il-1000000.csv\")\n",
        "data=[[img,df]]\n",
        "samples=[[x,float(i),float(j)] for x,y in data for i,j in y[['Alpha','Cl']].values ]\n",
        "r=np.arange(-16.5,18.25,0.25)"
      ],
      "execution_count": null,
      "outputs": []
    },
    {
      "cell_type": "code",
      "metadata": {
        "id": "Q45r7mnhcuF-"
      },
      "source": [
        "pred=[]\n",
        "for i,x,y in samples:\n",
        "# im=samples0[0][0]\n",
        "# for i in r:\n",
        "  pred.append([x, model(torch.tensor([i],dtype=torch.float).cuda(), torch.tensor([x],dtype=torch.float).cuda()).cpu().detach(),y])"
      ],
      "execution_count": null,
      "outputs": []
    },
    {
      "cell_type": "code",
      "metadata": {
        "colab": {
          "base_uri": "https://localhost:8080/"
        },
        "id": "8K44x6sbe5k1",
        "outputId": "993c5a56-f8b1-4a39-c017-489fffe62cc8"
      },
      "source": [
        "pred"
      ],
      "execution_count": null,
      "outputs": [
        {
          "output_type": "execute_result",
          "data": {
            "text/plain": [
              "[[-16.5, tensor([-0.9895]), -1.026],\n",
              " [-16.25, tensor([-0.9895]), -1.0806],\n",
              " [-16.0, tensor([-0.9851]), -1.1177],\n",
              " [-15.75, tensor([-0.9895]), -1.1416],\n",
              " [-15.5, tensor([-0.9895]), -1.1567],\n",
              " [-15.25, tensor([-0.9894]), -1.169],\n",
              " [-15.0, tensor([-0.9894]), -1.1791],\n",
              " [-14.75, tensor([-0.9891]), -1.1788],\n",
              " [-14.5, tensor([-0.9895]), -1.1856],\n",
              " [-14.25, tensor([-0.9895]), -1.1986],\n",
              " [-14.0, tensor([-0.9892]), -1.2082],\n",
              " [-13.75, tensor([-0.9892]), -1.2063],\n",
              " [-13.5, tensor([-0.8685]), -1.1966],\n",
              " [-13.25, tensor([-0.7760]), -1.1867],\n",
              " [-13.0, tensor([-0.8884]), -1.1786],\n",
              " [-12.75, tensor([-0.9893]), -1.1715],\n",
              " [-12.5, tensor([-0.9892]), -1.1623],\n",
              " [-12.25, tensor([-0.9715]), -1.1538],\n",
              " [-12.0, tensor([-0.8302]), -1.1503],\n",
              " [-11.75, tensor([-0.7418]), -1.1389],\n",
              " [-11.5, tensor([-0.6323]), -1.1274],\n",
              " [-11.25, tensor([-0.5970]), -1.1138],\n",
              " [-11.0, tensor([-0.5900]), -1.1079],\n",
              " [-10.75, tensor([-0.7875]), -1.0929],\n",
              " [-10.5, tensor([-0.6090]), -1.076],\n",
              " [-10.25, tensor([-0.6532]), -1.0584],\n",
              " [-10.0, tensor([-0.5873]), -1.0414],\n",
              " [-9.75, tensor([-0.7023]), -1.0237],\n",
              " [-9.5, tensor([-0.7310]), -1.0062],\n",
              " [-9.25, tensor([-0.6673]), -0.9878],\n",
              " [-9.0, tensor([-0.6594]), -0.9685],\n",
              " [-8.75, tensor([-0.6587]), -0.9494],\n",
              " [-8.5, tensor([-0.5772]), -0.9363],\n",
              " [-8.25, tensor([-0.6062]), -0.9173],\n",
              " [-8.0, tensor([-0.5758]), -0.8979],\n",
              " [-7.75, tensor([-0.6423]), -0.8784],\n",
              " [-7.5, tensor([-0.5819]), -0.8589],\n",
              " [-7.25, tensor([-0.5837]), -0.8391],\n",
              " [-7.0, tensor([-0.4372]), -0.82],\n",
              " [-6.75, tensor([-0.5798]), -0.8002],\n",
              " [-6.5, tensor([-0.5685]), -0.7734],\n",
              " [-6.25, tensor([-0.5820]), -0.7422],\n",
              " [-6.0, tensor([-0.3223]), -0.7085],\n",
              " [-5.75, tensor([-0.5568]), -0.6754],\n",
              " [-5.5, tensor([-0.2457]), -0.6443],\n",
              " [-5.25, tensor([-0.1162]), -0.6117],\n",
              " [-5.0, tensor([-0.1989]), -0.578],\n",
              " [-4.75, tensor([-0.5812]), -0.5434],\n",
              " [-4.5, tensor([-0.1734]), -0.5125],\n",
              " [-4.25, tensor([-0.4427]), -0.4832],\n",
              " [-4.0, tensor([-0.3401]), -0.4486],\n",
              " [-3.75, tensor([-0.1327]), -0.4229],\n",
              " [-3.5, tensor([-0.0313]), -0.3944],\n",
              " [-3.25, tensor([0.1191]), -0.3601],\n",
              " [-3.0, tensor([-0.2056]), -0.3212],\n",
              " [-2.75, tensor([-0.1282]), -0.2659],\n",
              " [-2.5, tensor([0.0501]), -0.2124],\n",
              " [-2.25, tensor([-0.0149]), -0.1773],\n",
              " [-2.0, tensor([0.1501]), -0.1501],\n",
              " [-1.75, tensor([0.1563]), -0.1312],\n",
              " [-1.5, tensor([0.4053]), -0.1122],\n",
              " [-1.25, tensor([0.1362]), -0.0898],\n",
              " [-1.0, tensor([0.1160]), -0.0671],\n",
              " [-0.75, tensor([0.1495]), -0.0469],\n",
              " [-0.5, tensor([0.2351]), -0.0316],\n",
              " [-0.25, tensor([0.3078]), -0.0141],\n",
              " [0.0, tensor([0.5671]), 0.0052],\n",
              " [0.25, tensor([0.2278]), 0.0249],\n",
              " [0.5, tensor([0.2785]), 0.0444],\n",
              " [0.75, tensor([0.5688]), 0.0645],\n",
              " [1.0, tensor([0.4863]), 0.0861],\n",
              " [1.25, tensor([0.5682]), 0.1091],\n",
              " [1.5, tensor([0.5665]), 0.1316],\n",
              " [1.75, tensor([0.5783]), 0.1537],\n",
              " [2.0, tensor([0.5791]), 0.1782],\n",
              " [2.25, tensor([0.7375]), 0.2076],\n",
              " [2.5, tensor([0.5571]), 0.2433],\n",
              " [2.75, tensor([0.6577]), 0.2839],\n",
              " [3.0, tensor([0.8077]), 0.3228],\n",
              " [3.25, tensor([0.5820]), 0.3636],\n",
              " [3.5, tensor([0.8523]), 0.3922],\n",
              " [3.75, tensor([0.8766]), 0.4223],\n",
              " [4.0, tensor([0.8962]), 0.4524],\n",
              " [4.25, tensor([0.8870]), 0.4793],\n",
              " [4.5, tensor([0.8961]), 0.5111],\n",
              " [4.75, tensor([0.8869]), 0.5446],\n",
              " [5.0, tensor([0.8834]), 0.5764],\n",
              " [5.25, tensor([0.8960]), 0.6032],\n",
              " [5.5, tensor([0.8954]), 0.6356],\n",
              " [5.75, tensor([0.8962]), 0.6698],\n",
              " [6.0, tensor([0.8958]), 0.7029],\n",
              " [6.25, tensor([0.8968]), 0.735],\n",
              " [6.5, tensor([0.8954]), 0.7664],\n",
              " [6.75, tensor([0.8968]), 0.7987],\n",
              " [7.0, tensor([0.8976]), 0.8294],\n",
              " [7.25, tensor([1.1215]), 0.863],\n",
              " [7.5, tensor([0.9039]), 0.8927],\n",
              " [7.75, tensor([0.9027]), 0.91],\n",
              " [8.0, tensor([0.8995]), 0.9279],\n",
              " [8.25, tensor([1.0253]), 0.9458],\n",
              " [8.5, tensor([1.1282]), 0.9545],\n",
              " [8.75, tensor([1.0121]), 0.9757],\n",
              " [9.0, tensor([1.1172]), 0.9959],\n",
              " [9.25, tensor([1.0960]), 1.0142],\n",
              " [9.5, tensor([1.1260]), 1.0331],\n",
              " [9.75, tensor([1.1204]), 1.0521],\n",
              " [10.0, tensor([1.1227]), 1.0702],\n",
              " [10.25, tensor([1.1248]), 1.0801],\n",
              " [10.5, tensor([1.1260]), 1.0957],\n",
              " [10.75, tensor([1.1305]), 1.1135],\n",
              " [11.0, tensor([1.1262]), 1.1301],\n",
              " [11.25, tensor([1.0448]), 1.1476],\n",
              " [11.5, tensor([1.0992]), 1.1628],\n",
              " [11.75, tensor([1.1969]), 1.177],\n",
              " [12.0, tensor([1.2560]), 1.1903],\n",
              " [12.25, tensor([1.1337]), 1.1952],\n",
              " [12.5, tensor([1.2690]), 1.1865],\n",
              " [12.75, tensor([1.2629]), 1.1939],\n",
              " [13.0, tensor([1.2785]), 1.2021],\n",
              " [13.25, tensor([1.2796]), 1.2083],\n",
              " [13.5, tensor([1.2814]), 1.2131],\n",
              " [13.75, tensor([1.2811]), 1.2165],\n",
              " [14.0, tensor([1.2789]), 1.222],\n",
              " [14.25, tensor([1.2804]), 1.2273],\n",
              " [14.5, tensor([1.2811]), 1.2307],\n",
              " [14.75, tensor([1.2558]), 1.2375],\n",
              " [15.0, tensor([1.2808]), 1.2387],\n",
              " [15.25, tensor([1.2810]), 1.2342],\n",
              " [15.5, tensor([1.2791]), 1.2315],\n",
              " [15.75, tensor([1.2811]), 1.2244],\n",
              " [16.0, tensor([1.2793]), 1.2066],\n",
              " [16.25, tensor([1.2805]), 1.1901],\n",
              " [16.5, tensor([1.2812]), 1.1758],\n",
              " [16.75, tensor([1.2811]), 1.1498],\n",
              " [17.0, tensor([1.2808]), 1.1341],\n",
              " [17.25, tensor([1.2783]), 1.1048],\n",
              " [17.5, tensor([1.2812]), 1.0872],\n",
              " [17.75, tensor([1.2814]), 1.0562],\n",
              " [18.0, tensor([1.2807]), 1.0219]]"
            ]
          },
          "metadata": {
            "tags": []
          },
          "execution_count": 35
        }
      ]
    },
    {
      "cell_type": "code",
      "metadata": {
        "id": "kOt8JUlzV4U6"
      },
      "source": [
        "p2=np.asarray(pred)"
      ],
      "execution_count": null,
      "outputs": []
    },
    {
      "cell_type": "code",
      "metadata": {
        "colab": {
          "base_uri": "https://localhost:8080/"
        },
        "id": "vPS-OtayfYnc",
        "outputId": "fe1d02bb-646e-4005-f2d6-6cb0ce54cea9"
      },
      "source": [
        "p=np.asarray(pred)\n",
        "s=np.asarray(samples0)"
      ],
      "execution_count": null,
      "outputs": [
        {
          "output_type": "stream",
          "text": [
            "/usr/local/lib/python3.6/dist-packages/numpy/core/_asarray.py:83: VisibleDeprecationWarning: Creating an ndarray from ragged nested sequences (which is a list-or-tuple of lists-or-tuples-or ndarrays with different lengths or shapes) is deprecated. If you meant to do this, you must specify 'dtype=object' when creating the ndarray\n",
            "  return array(a, dtype, copy=False, order=order)\n"
          ],
          "name": "stderr"
        }
      ]
    },
    {
      "cell_type": "code",
      "metadata": {
        "id": "Rzi2K1mISFPU"
      },
      "source": [
        "import matplotlib.pyplot as plt"
      ],
      "execution_count": null,
      "outputs": []
    },
    {
      "cell_type": "code",
      "metadata": {
        "colab": {
          "base_uri": "https://localhost:8080/",
          "height": 298
        },
        "id": "Cvi7EJHlR11d",
        "outputId": "d1fd3e91-0b85-43d7-e67e-0c0a5b8c0a55"
      },
      "source": [
        "plt.plot(p2[:,0],p2[:,2],p2[:,0],p2[:,1])"
      ],
      "execution_count": null,
      "outputs": [
        {
          "output_type": "execute_result",
          "data": {
            "text/plain": [
              "[<matplotlib.lines.Line2D at 0x7f37d19c27b8>,\n",
              " <matplotlib.lines.Line2D at 0x7f37d19c28d0>]"
            ]
          },
          "metadata": {
            "tags": []
          },
          "execution_count": 39
        },
        {
          "output_type": "display_data",
          "data": {
            "image/png": "[encoded data removed]",
            "text/plain": [
              "<Figure size 432x288 with 1 Axes>"
            ]
          },
          "metadata": {
            "tags": [],
            "needs_background": "light"
          }
        }
      ]
    },
    {
      "cell_type": "code",
      "metadata": {
        "id": "eGW_ch_wR785"
      },
      "source": [
        ""
      ],
      "execution_count": null,
      "outputs": []
    }
  ]
}